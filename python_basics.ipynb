{
  "nbformat": 4,
  "nbformat_minor": 0,
  "metadata": {
    "colab": {
      "provenance": []
    },
    "kernelspec": {
      "name": "python3",
      "display_name": "Python 3"
    },
    "language_info": {
      "name": "python"
    }
  },
  "cells": [
    {
      "cell_type": "markdown",
      "source": [
        "# Python Basics\n"
      ],
      "metadata": {
        "id": "ZGSy-K3QTEWS"
      }
    },
    {
      "cell_type": "markdown",
      "source": [
        "1. What is Python, and why is it popular?\n",
        " - Python is a programming language and it is popular for its easy syntax and due to availablitity for large number of libraries present in it.\n",
        "\n",
        "2. What is an interpreter in Python?\n",
        " - An interpreter in python is a program that executes python code line by line, converting it into machine readable instruction directly at run-time.\n",
        "\n",
        "3. What are pre-defined keywords in Python?\n",
        " - They are reserved keywords which have specific meaning and purpose.They pre-defined keywords cannot be used as variables names,function names beacuse they are part of the python syntax.\n",
        "\n",
        "4. Can keywords be used as variable names?\n",
        " - No they cannot be used as varibale beacuse they are part of the python syntax.\n",
        "\n",
        "5. What is mutability in Python?\n",
        " - It means that its value can be changed after they are created.\n",
        "\n",
        "6. Why are lists mutable, but tuples are immutable?\n",
        " - it lies on the design purpose and use cases\n",
        "\n",
        "7. What is the difference between “==” and “is” operators in Python?\n",
        " - \"==\" operator checks if it's value is equal and \"is\" operator check if their memory location is same.\n",
        "\n",
        "8. What are logical operators in Python?\n",
        " - Logical operators in Python are used to perform logical operations on Boolean values. They evaluate expressions and return a Boolean value (True or False). Python has three logical operators: and, or, and not.\n",
        "\n",
        "9. What is type casting in Python?\n",
        " - it used converts the value from one data type to another data type.for ex-\n",
        " coverting int 1 to string or converting 1.6 to integer.\n",
        "\n",
        "10. What is the difference between implicit and explicit type casting?\n",
        " - implicit is done by the system itself and explicit is done by the user\n",
        "\n",
        "11. What is the purpose of conditional statements in Python?\n",
        " - The purpose of conditional statements in Python is to enable a program to make decisions and execute different blocks of code based on whether a condition is true or false. They allow for dynamic and flexible control flow in our program, enabling it to respond to various inputs or states.\n",
        "\n",
        "12. How does the elif statement work?\n",
        " - in it basically there is if ,else and elif . if statement is true it goes into if block, and if condition is false it goes to elif condition and if elif condition is true then it goes inside the elif block. and elif condition is wrong then it goes to else part block and then condtional statement ends.\n",
        "\n",
        "13. What is the difference between for and while loops?\n",
        " - the main difference between them is how they are structured and used.\n",
        "\n",
        "14. Describe a scenario where a while loop is more suitable than a for loop?\n",
        " - Imagine a program that repeatedly asks the user to enter a valid number (e.g., between 1 and 10). The loop should continue until the user provides a valid input.\n",
        "\n",
        "The number of attempts the user will need to enter a valid number is unknown.\n",
        "A while loop allows the program to keep running until the condition (valid input) is satisfied.\n"
      ],
      "metadata": {
        "id": "FVfm3RdxTpNX"
      }
    },
    {
      "cell_type": "code",
      "execution_count": null,
      "metadata": {
        "id": "UUwYIip_S3rM"
      },
      "outputs": [],
      "source": [
        "# answer 1\n",
        "print(\"Hello ,World!\")"
      ]
    },
    {
      "cell_type": "code",
      "source": [
        "# answer2\n",
        "print(\"my name is Chandan kumar and my age is 19\")"
      ],
      "metadata": {
        "id": "eEylqE8obd1d"
      },
      "execution_count": null,
      "outputs": []
    },
    {
      "cell_type": "code",
      "source": [
        "#answer 3\n",
        "help(\"keywords\")"
      ],
      "metadata": {
        "colab": {
          "base_uri": "https://localhost:8080/"
        },
        "id": "kZsy6lyYbqvG",
        "outputId": "e5f7aa45-171c-4556-f149-6823e5502e21"
      },
      "execution_count": 4,
      "outputs": [
        {
          "output_type": "stream",
          "name": "stdout",
          "text": [
            "\n",
            "Here is a list of the Python keywords.  Enter any keyword to get more help.\n",
            "\n",
            "False               class               from                or\n",
            "None                continue            global              pass\n",
            "True                def                 if                  raise\n",
            "and                 del                 import              return\n",
            "as                  elif                in                  try\n",
            "assert              else                is                  while\n",
            "async               except              lambda              with\n",
            "await               finally             nonlocal            yield\n",
            "break               for                 not                 \n",
            "\n"
          ]
        }
      ]
    },
    {
      "cell_type": "code",
      "source": [
        "#answer 4\n",
        "import keyword\n",
        "word = input(\"Enter a word to check: \")\n",
        "if keyword.iskeyword(word):\n",
        "    print(f\"'{word}' is a Python keyword.\")\n",
        "else:\n",
        "    print(f\"'{word}' is not a Python keyword.\")"
      ],
      "metadata": {
        "colab": {
          "base_uri": "https://localhost:8080/"
        },
        "collapsed": true,
        "id": "CUKyKoSubtnK",
        "outputId": "acecb8cf-0b87-42be-e0f2-46503a5c8d52"
      },
      "execution_count": 7,
      "outputs": [
        {
          "output_type": "stream",
          "name": "stdout",
          "text": [
            "\n",
            "Here is a list of the Python keywords.  Enter any keyword to get more help.\n",
            "\n",
            "False               class               from                or\n",
            "None                continue            global              pass\n",
            "True                def                 if                  raise\n",
            "and                 del                 import              return\n",
            "as                  elif                in                  try\n",
            "assert              else                is                  while\n",
            "async               except              lambda              with\n",
            "await               finally             nonlocal            yield\n",
            "break               for                 not                 \n",
            "\n"
          ]
        },
        {
          "output_type": "execute_result",
          "data": {
            "text/plain": [
              "[None]"
            ]
          },
          "metadata": {},
          "execution_count": 7
        }
      ]
    },
    {
      "cell_type": "code",
      "source": [
        "#answer 5\n",
        "#creating list\n",
        "l=[1,2,3,4]\n",
        "#creating tuple\n",
        "t=(1,2,3,4)\n",
        "\n",
        "l[0]=5\n",
        "#we cannot change an element in tuple because tuple is immutable"
      ],
      "metadata": {
        "colab": {
          "base_uri": "https://localhost:8080/"
        },
        "id": "nbjPLqlcdET6",
        "outputId": "f328e315-6a5b-4fe9-f181-de106ec868e3"
      },
      "execution_count": 8,
      "outputs": [
        {
          "output_type": "execute_result",
          "data": {
            "text/plain": [
              "False"
            ]
          },
          "metadata": {},
          "execution_count": 8
        }
      ]
    },
    {
      "cell_type": "code",
      "source": [
        "'''answer 6 / 7\n",
        "function is not teached yet '''"
      ],
      "metadata": {
        "id": "qLSVQEpvdS0H"
      },
      "execution_count": null,
      "outputs": []
    },
    {
      "cell_type": "code",
      "source": [
        "#answer 8\n",
        "1 and 5\n",
        "\n",
        "1 or 0\n",
        "\n",
        "not(1)"
      ],
      "metadata": {
        "id": "WgANizDpdVNH"
      },
      "execution_count": null,
      "outputs": []
    },
    {
      "cell_type": "code",
      "source": [
        "#answer 9\n",
        "a=input(\"enter any number \")\n",
        "\n",
        "#converting string a into integer\n",
        "a=int(a)\n",
        "\n",
        "#converting string to float\n",
        "a=float(a)\n",
        "\n",
        "#converting string into boolean\n",
        "a=bool(a)"
      ],
      "metadata": {
        "id": "OBzmX493fJwj"
      },
      "execution_count": null,
      "outputs": []
    },
    {
      "cell_type": "code",
      "source": [
        "#answer 10\n",
        "l=[1,2,3,4]\n",
        "a=[]\n",
        "for i in l:\n",
        " a.append(float(i))\n",
        "a"
      ],
      "metadata": {
        "colab": {
          "base_uri": "https://localhost:8080/"
        },
        "id": "dOQBCANpfb6q",
        "outputId": "e47086ec-2e67-4ef2-ac5b-4f4a2875e457"
      },
      "execution_count": 13,
      "outputs": [
        {
          "output_type": "execute_result",
          "data": {
            "text/plain": [
              "[1.0, 2.0, 3.0, 4.0]"
            ]
          },
          "metadata": {},
          "execution_count": 13
        }
      ]
    },
    {
      "cell_type": "code",
      "source": [
        "#answer 11\n",
        "number=int(input(\"enter any number\"))\n",
        "\n",
        "if number>0:\n",
        "  print(\"number is positive\")\n",
        "elif number<0:\n",
        "  print(\"number is negative\")\n",
        "else:\n",
        "  print(\"number is zero\")"
      ],
      "metadata": {
        "id": "HXdtBewYfdqs"
      },
      "execution_count": null,
      "outputs": []
    },
    {
      "cell_type": "code",
      "source": [
        "#answer 12\n",
        "for i in range(1,11):\n",
        "  print(i)"
      ],
      "metadata": {
        "id": "EQEye6d4ffds"
      },
      "execution_count": 14,
      "outputs": []
    },
    {
      "cell_type": "code",
      "source": [
        "#answer 13\n",
        "sum=0\n",
        "for i in range(1,51):\n",
        "  if(i%2==0):\n",
        "    sum=sum+i\n",
        "print(sum)"
      ],
      "metadata": {
        "colab": {
          "base_uri": "https://localhost:8080/"
        },
        "id": "fJcqWWA2g8UV",
        "outputId": "224fba68-6bcf-4012-9756-6a5a72dd2135"
      },
      "execution_count": 15,
      "outputs": [
        {
          "output_type": "stream",
          "name": "stdout",
          "text": [
            "650\n"
          ]
        }
      ]
    },
    {
      "cell_type": "code",
      "source": [
        "#answer 14\n",
        "name=\"chandan\"\n",
        "n=len(name)-1\n",
        "i=0\n",
        "while n>=i:\n",
        "  print(name[n],end=\" \")\n",
        "  n=n-1\n"
      ],
      "metadata": {
        "colab": {
          "base_uri": "https://localhost:8080/"
        },
        "id": "4-hhmgvchkCb",
        "outputId": "6dfb7c60-b8d2-4ea4-9b8d-3f975a54e8fa"
      },
      "execution_count": 18,
      "outputs": [
        {
          "output_type": "stream",
          "name": "stdout",
          "text": [
            "n a d n a h c "
          ]
        }
      ]
    },
    {
      "cell_type": "code",
      "source": [
        "#answer 15\n",
        "n=int(input(\"please enter a no. of which you want to find factorial\"))\n",
        "fact=1\n",
        "i=1\n",
        "while i<=n:\n",
        "  fact=fact*i\n",
        "  i=i+1\n",
        "print(fact)"
      ],
      "metadata": {
        "colab": {
          "base_uri": "https://localhost:8080/"
        },
        "id": "vl2SKm4IhlP7",
        "outputId": "6f2e0e8a-cc49-4ee6-d799-ee9b9e8c05ec"
      },
      "execution_count": 21,
      "outputs": [
        {
          "output_type": "stream",
          "name": "stdout",
          "text": [
            "please enter a no. of which you want to find factorial4\n",
            "24\n"
          ]
        }
      ]
    },
    {
      "cell_type": "code",
      "source": [],
      "metadata": {
        "id": "n1Hcf9JkiQ6m"
      },
      "execution_count": 21,
      "outputs": []
    }
  ]
}